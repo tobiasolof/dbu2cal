{
 "cells": [
  {
   "cell_type": "markdown",
   "metadata": {},
   "source": [
    "See https://stackoverflow.com/questions/40684543/how-to-make-python-use-ca-certificates-from-mac-os-truststore for a solution to `SSL: CERTIFICATE_VERIFY_FAILED`."
   ]
  },
  {
   "cell_type": "code",
   "execution_count": null,
   "metadata": {},
   "outputs": [],
   "source": [
    "from urllib.request import urlopen\n",
    "from bs4 import BeautifulSoup\n",
    "from datetime import datetime, timedelta\n",
    "from icalendar import Calendar, Event\n",
    "import pandas as pd"
   ]
  },
  {
   "cell_type": "code",
   "execution_count": null,
   "metadata": {},
   "outputs": [],
   "source": [
    "# Define url\n",
    "url = 'https://www.dbukoebenhavn.dk/turneringer_og_resultater/resultatsoegning/programTeam.aspx?TeamId=222951&PoolId=259213&DateFrom=01-01-2018&DateTo=31-12-2018&HomeMatch=1&AwayMatch=1'"
   ]
  },
  {
   "cell_type": "code",
   "execution_count": null,
   "metadata": {},
   "outputs": [],
   "source": [
    "# Read table into dataframe\n",
    "df = pd.read_html(url, attrs = {'class': 'dbustandard stripes full srDefault srProgram1 srDefaultPadding'})[0]\n",
    "\n",
    "# Correct column names\n",
    "new_header = df.columns.to_series().shift(1)\n",
    "new_header.iat[0] = 'Kampnr'\n",
    "df = df.rename(new_header, axis='columns')\n",
    "\n",
    "# Read page into BeautifulSoup (used to get link to match page)\n",
    "page = urlopen(url)\n",
    "soup = BeautifulSoup(page, 'html.parser')\n",
    "\n",
    "# Create calendar object\n",
    "cal = Calendar()\n",
    "\n",
    "# Loop through\n",
    "for row in df.iterrows():\n",
    "    \n",
    "    # Create event object\n",
    "    temp_event = Event()\n",
    "\n",
    "    # Add title\n",
    "    event_name = row[1]['Hjemmehold'] + ' - ' + row[1]['Udehold']\n",
    "    temp_event.add('summary', event_name)\n",
    "\n",
    "    # Add link to match page\n",
    "    link = soup.find('a', attrs={'title': 'Kampinformation for {}'.format(row[1]['Kampnr'])})['href']\n",
    "    url_first_part = '/'.join(url.split('/')[:-1])\n",
    "    match_url = '/'.join((url_first_part, link))\n",
    "    temp_event.add('description', match_url)\n",
    "    \n",
    "    # Get address from match page\n",
    "    match_page = urlopen(match_url)\n",
    "    match_soup = BeautifulSoup(match_page, 'html.parser')\n",
    "    address = ', '.join(match_soup.find('td', string='Spillested').find_next_sibling().get_text('///').split('///')[1:3])\n",
    "    temp_event.add('location', address)\n",
    "\n",
    "    # Add start and end times\n",
    "    start_time = datetime.strptime(row[1]['Tidspunkt'], '%d-%m-%yKl. %H:%M')\n",
    "    end_time = start_time + timedelta(hours=2)\n",
    "    temp_event.add('dtstart', start_time)\n",
    "    temp_event.add('dtend', end_time)\n",
    "\n",
    "    # Add event to calendar\n",
    "    cal.add_component(temp_event)\n",
    "    \n",
    "# Write calendar to iCal file\n",
    "with open('dbu_game_cal.ics', 'wb') as f:\n",
    "    f.write(cal.to_ical())"
   ]
  }
 ],
 "metadata": {
  "kernelspec": {
   "display_name": "Python 3",
   "language": "python",
   "name": "python3"
  },
  "language_info": {
   "codemirror_mode": {
    "name": "ipython",
    "version": 3
   },
   "file_extension": ".py",
   "mimetype": "text/x-python",
   "name": "python",
   "nbconvert_exporter": "python",
   "pygments_lexer": "ipython3",
   "version": "3.6.4"
  }
 },
 "nbformat": 4,
 "nbformat_minor": 2
}
